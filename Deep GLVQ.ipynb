{
 "cells": [
  {
   "cell_type": "markdown",
   "id": "a92ef9a6-4972-4869-b552-6410b0b74f43",
   "metadata": {},
   "source": [
    "### Deep GLVQ"
   ]
  },
  {
   "cell_type": "code",
   "execution_count": 1,
   "id": "f4d31163-cb71-4768-ab6f-4367a3730229",
   "metadata": {},
   "outputs": [],
   "source": [
    "%load_ext autoreload\n",
    "%autoreload 2"
   ]
  },
  {
   "cell_type": "code",
   "execution_count": 2,
   "id": "0a8f36b1-ac13-402d-a909-e35153b7b1a4",
   "metadata": {},
   "outputs": [],
   "source": [
    "import torch\n",
    "from torchvision import datasets, transforms\n",
    "from torch.utils.data import DataLoader,random_split\n",
    "\n",
    "import torch.nn as nn\n",
    "import torch.optim as optim\n",
    "import torch.nn.functional as F\n",
    "\n",
    "from tqdm import tqdm\n",
    "\n",
    "import matplotlib.pyplot as plt\n",
    "import numpy as np\n",
    "\n",
    "from mnist_helpers import process_mnist_dataset\n",
    "\n",
    "import copy\n",
    "\n",
    "from sklvq import GLVQ\n",
    "\n",
    "from DeepGLVQ import DeepGLVQ"
   ]
  },
  {
   "cell_type": "code",
   "execution_count": 3,
   "id": "12305a60-a514-4018-af5e-6bc9cc38d012",
   "metadata": {},
   "outputs": [],
   "source": [
    "import copy"
   ]
  },
  {
   "cell_type": "markdown",
   "id": "daae86d6-8f3e-4b9b-a0c3-f4603656896d",
   "metadata": {},
   "source": [
    "##### Loading MNIST Dataset"
   ]
  },
  {
   "cell_type": "code",
   "execution_count": 8,
   "id": "5b549747-266b-4db2-90c8-8841e90eeff9",
   "metadata": {},
   "outputs": [],
   "source": [
    "batch_size = 256\n",
    "validation_split = 0.2\n",
    "\n",
    "train_data,validation_data,test_data = process_mnist_dataset(batch_size,validation_split)\n",
    "\n",
    "train_loader = DataLoader(dataset=train_data, batch_size=batch_size, shuffle=True)\n",
    "validation_loader = DataLoader(dataset=validation_data, batch_size=batch_size, shuffle=False)\n",
    "test_loader = DataLoader(dataset=test_data, batch_size=batch_size, shuffle=False)"
   ]
  },
  {
   "cell_type": "markdown",
   "id": "3cc34a1f-8b49-4f6b-a9db-46994699727f",
   "metadata": {},
   "source": [
    "##### GLVQ Loss Function"
   ]
  },
  {
   "cell_type": "code",
   "execution_count": 9,
   "id": "87e38542-974a-48c5-a8a2-88b7b68015c8",
   "metadata": {},
   "outputs": [],
   "source": [
    "#This will be the dimension of the latent space\n",
    "n_dims_for_classif = 10\n",
    "\n",
    "lr = 1e-4\n",
    "batch_size = 256\n",
    "n_epochs = 100\n",
    "\n",
    "n_prototypes_per_class = 16\n",
    "\n",
    "#How large of a margin we want between classes. For larger margins use smaller gamma. \n",
    "gamma = 0\n",
    "\n",
    "deep_glvq = DeepGLVQ(\n",
    "    n_dims_for_classif = n_dims_for_classif,\n",
    "    train_data = train_data,\n",
    "    validation_data = validation_data,\n",
    "    test_data = test_data,\n",
    "    lr = lr,\n",
    "    batch_size = batch_size,\n",
    "    n_epochs = n_epochs,\n",
    "    gamma = gamma,\n",
    "    n_prototypes_per_class = n_prototypes_per_class\n",
    ")"
   ]
  },
  {
   "cell_type": "code",
   "execution_count": 10,
   "id": "3c544538-636e-436e-aff2-8e566680f972",
   "metadata": {},
   "outputs": [
    {
     "name": "stderr",
     "output_type": "stream",
     "text": [
      "Epoch 1 / 100: 188it [00:09, 18.87it/s]\n"
     ]
    },
    {
     "name": "stdout",
     "output_type": "stream",
     "text": [
      "Epoch 1 validation loss: 0.37137678265571594\n",
      "Epoch 1 validation accuracy: 0.9235833287239075\n",
      "\n",
      "Epoch 1 train loss: 0.37137678265571594\n",
      "Epoch 1 train accuracy: 0.9289166927337646\n",
      "\n"
     ]
    },
    {
     "name": "stderr",
     "output_type": "stream",
     "text": [
      "Epoch 2 / 100: 188it [00:10, 18.46it/s]\n"
     ]
    },
    {
     "name": "stdout",
     "output_type": "stream",
     "text": [
      "Epoch 2 validation loss: 0.34827208518981934\n",
      "Epoch 2 validation accuracy: 0.9423333406448364\n",
      "\n",
      "Epoch 2 train loss: 0.34827208518981934\n",
      "Epoch 2 train accuracy: 0.9470000267028809\n",
      "\n"
     ]
    },
    {
     "name": "stderr",
     "output_type": "stream",
     "text": [
      "Epoch 3 / 100: 188it [00:11, 16.76it/s]\n"
     ]
    },
    {
     "name": "stdout",
     "output_type": "stream",
     "text": [
      "Epoch 3 validation loss: 0.33703476190567017\n",
      "Epoch 3 validation accuracy: 0.9483333230018616\n",
      "\n",
      "Epoch 3 train loss: 0.33703476190567017\n",
      "Epoch 3 train accuracy: 0.9552083611488342\n",
      "\n"
     ]
    },
    {
     "name": "stderr",
     "output_type": "stream",
     "text": [
      "Epoch 4 / 100: 188it [00:11, 16.13it/s]\n"
     ]
    },
    {
     "name": "stdout",
     "output_type": "stream",
     "text": [
      "Epoch 4 validation loss: 0.3296317458152771\n",
      "Epoch 4 validation accuracy: 0.9544166922569275\n",
      "\n",
      "Epoch 4 train loss: 0.3296317458152771\n",
      "Epoch 4 train accuracy: 0.9600625038146973\n",
      "\n"
     ]
    },
    {
     "name": "stderr",
     "output_type": "stream",
     "text": [
      "Epoch 5 / 100: 188it [00:14, 13.05it/s]\n"
     ]
    },
    {
     "name": "stdout",
     "output_type": "stream",
     "text": [
      "Epoch 5 validation loss: 0.3242439925670624\n",
      "Epoch 5 validation accuracy: 0.9566666483879089\n",
      "\n",
      "Epoch 5 train loss: 0.3242439925670624\n",
      "Epoch 5 train accuracy: 0.9637083411216736\n",
      "\n"
     ]
    },
    {
     "name": "stderr",
     "output_type": "stream",
     "text": [
      "Epoch 6 / 100: 188it [00:13, 14.01it/s]\n"
     ]
    },
    {
     "name": "stdout",
     "output_type": "stream",
     "text": [
      "Epoch 6 validation loss: 0.32006382942199707\n",
      "Epoch 6 validation accuracy: 0.9602500200271606\n",
      "\n",
      "Epoch 6 train loss: 0.32006382942199707\n",
      "Epoch 6 train accuracy: 0.9671875238418579\n",
      "\n"
     ]
    },
    {
     "name": "stderr",
     "output_type": "stream",
     "text": [
      "Epoch 7 / 100: 188it [00:12, 15.07it/s]\n"
     ]
    },
    {
     "name": "stdout",
     "output_type": "stream",
     "text": [
      "Epoch 7 validation loss: 0.31662893295288086\n",
      "Epoch 7 validation accuracy: 0.9629999995231628\n",
      "\n",
      "Epoch 7 train loss: 0.31662893295288086\n",
      "Epoch 7 train accuracy: 0.9693124890327454\n",
      "\n"
     ]
    },
    {
     "name": "stderr",
     "output_type": "stream",
     "text": [
      "Epoch 8 / 100: 188it [00:12, 15.21it/s]\n"
     ]
    },
    {
     "name": "stdout",
     "output_type": "stream",
     "text": [
      "Epoch 8 validation loss: 0.3137432038784027\n",
      "Epoch 8 validation accuracy: 0.9629999995231628\n",
      "\n",
      "Epoch 8 train loss: 0.3137432038784027\n",
      "Epoch 8 train accuracy: 0.9713958501815796\n",
      "\n"
     ]
    },
    {
     "name": "stderr",
     "output_type": "stream",
     "text": [
      "Epoch 9 / 100: 188it [00:12, 15.30it/s]\n"
     ]
    },
    {
     "name": "stdout",
     "output_type": "stream",
     "text": [
      "Epoch 9 validation loss: 0.31171342730522156\n",
      "Epoch 9 validation accuracy: 0.9646666646003723\n",
      "\n",
      "Epoch 9 train loss: 0.31171342730522156\n",
      "Epoch 9 train accuracy: 0.9729999899864197\n",
      "\n"
     ]
    },
    {
     "name": "stderr",
     "output_type": "stream",
     "text": [
      "Epoch 10 / 100: 188it [00:12, 15.13it/s]\n"
     ]
    },
    {
     "name": "stdout",
     "output_type": "stream",
     "text": [
      "Epoch 10 validation loss: 0.3096332252025604\n",
      "Epoch 10 validation accuracy: 0.965583324432373\n",
      "\n",
      "Epoch 10 train loss: 0.3096332252025604\n",
      "Epoch 10 train accuracy: 0.9739791750907898\n",
      "\n"
     ]
    },
    {
     "name": "stderr",
     "output_type": "stream",
     "text": [
      "Epoch 11 / 100: 188it [00:12, 14.62it/s]\n"
     ]
    },
    {
     "name": "stdout",
     "output_type": "stream",
     "text": [
      "Epoch 11 validation loss: 0.30769219994544983\n",
      "Epoch 11 validation accuracy: 0.965833306312561\n",
      "\n",
      "Epoch 11 train loss: 0.30769219994544983\n",
      "Epoch 11 train accuracy: 0.9755416512489319\n",
      "\n"
     ]
    },
    {
     "name": "stderr",
     "output_type": "stream",
     "text": [
      "Epoch 12 / 100: 188it [00:12, 14.91it/s]\n"
     ]
    },
    {
     "name": "stdout",
     "output_type": "stream",
     "text": [
      "Epoch 12 validation loss: 0.30611127614974976\n",
      "Epoch 12 validation accuracy: 0.9675833582878113\n",
      "\n",
      "Epoch 12 train loss: 0.30611127614974976\n",
      "Epoch 12 train accuracy: 0.9770625233650208\n",
      "\n"
     ]
    },
    {
     "name": "stderr",
     "output_type": "stream",
     "text": [
      "Epoch 13 / 100: 188it [00:12, 15.16it/s]\n"
     ]
    },
    {
     "name": "stdout",
     "output_type": "stream",
     "text": [
      "Epoch 13 validation loss: 0.3048480153083801\n",
      "Epoch 13 validation accuracy: 0.96875\n",
      "\n",
      "Epoch 13 train loss: 0.3048480153083801\n",
      "Epoch 13 train accuracy: 0.9778749942779541\n",
      "\n"
     ]
    },
    {
     "name": "stderr",
     "output_type": "stream",
     "text": [
      "Epoch 14 / 100: 188it [00:12, 14.72it/s]\n"
     ]
    },
    {
     "name": "stdout",
     "output_type": "stream",
     "text": [
      "Epoch 14 validation loss: 0.3033878803253174\n",
      "Epoch 14 validation accuracy: 0.96875\n",
      "\n",
      "Epoch 14 train loss: 0.3033878803253174\n",
      "Epoch 14 train accuracy: 0.9789375066757202\n",
      "\n"
     ]
    },
    {
     "name": "stderr",
     "output_type": "stream",
     "text": [
      "Epoch 15 / 100: 188it [00:12, 14.49it/s]\n"
     ]
    },
    {
     "name": "stdout",
     "output_type": "stream",
     "text": [
      "Epoch 15 validation loss: 0.30204546451568604\n",
      "Epoch 15 validation accuracy: 0.9683333039283752\n",
      "\n",
      "Epoch 15 train loss: 0.30204546451568604\n",
      "Epoch 15 train accuracy: 0.9794583320617676\n",
      "\n"
     ]
    },
    {
     "name": "stderr",
     "output_type": "stream",
     "text": [
      "Epoch 16 / 100: 188it [00:12, 14.99it/s]\n"
     ]
    },
    {
     "name": "stdout",
     "output_type": "stream",
     "text": [
      "Epoch 16 validation loss: 0.3012098968029022\n",
      "Epoch 16 validation accuracy: 0.9704999923706055\n",
      "\n",
      "Epoch 16 train loss: 0.3012098968029022\n",
      "Epoch 16 train accuracy: 0.9808750152587891\n",
      "\n"
     ]
    },
    {
     "name": "stderr",
     "output_type": "stream",
     "text": [
      "Epoch 17 / 100: 188it [00:12, 14.77it/s]\n"
     ]
    },
    {
     "name": "stdout",
     "output_type": "stream",
     "text": [
      "Epoch 17 validation loss: 0.29991909861564636\n",
      "Epoch 17 validation accuracy: 0.9704166650772095\n",
      "\n",
      "Epoch 17 train loss: 0.29991909861564636\n",
      "Epoch 17 train accuracy: 0.9817500114440918\n",
      "\n"
     ]
    },
    {
     "name": "stderr",
     "output_type": "stream",
     "text": [
      "Epoch 18 / 100: 188it [00:12, 14.70it/s]\n"
     ]
    },
    {
     "name": "stdout",
     "output_type": "stream",
     "text": [
      "Epoch 18 validation loss: 0.2994323670864105\n",
      "Epoch 18 validation accuracy: 0.9707499742507935\n",
      "\n",
      "Epoch 18 train loss: 0.2994323670864105\n",
      "Epoch 18 train accuracy: 0.9823541641235352\n",
      "\n"
     ]
    },
    {
     "name": "stderr",
     "output_type": "stream",
     "text": [
      "Epoch 19 / 100: 188it [00:12, 14.67it/s]\n"
     ]
    },
    {
     "name": "stdout",
     "output_type": "stream",
     "text": [
      "Epoch 19 validation loss: 0.298176646232605\n",
      "Epoch 19 validation accuracy: 0.9710833430290222\n",
      "\n",
      "Epoch 19 train loss: 0.298176646232605\n",
      "Epoch 19 train accuracy: 0.9831041693687439\n",
      "\n"
     ]
    },
    {
     "name": "stderr",
     "output_type": "stream",
     "text": [
      "Epoch 20 / 100: 188it [00:12, 14.90it/s]\n"
     ]
    },
    {
     "name": "stdout",
     "output_type": "stream",
     "text": [
      "Epoch 20 validation loss: 0.297624796628952\n",
      "Epoch 20 validation accuracy: 0.9722499847412109\n",
      "\n",
      "Epoch 20 train loss: 0.297624796628952\n",
      "Epoch 20 train accuracy: 0.9835625290870667\n",
      "\n"
     ]
    },
    {
     "name": "stderr",
     "output_type": "stream",
     "text": [
      "Epoch 21 / 100: 188it [00:13, 14.15it/s]\n"
     ]
    },
    {
     "name": "stdout",
     "output_type": "stream",
     "text": [
      "Epoch 21 validation loss: 0.29671159386634827\n",
      "Epoch 21 validation accuracy: 0.971916675567627\n",
      "\n",
      "Epoch 21 train loss: 0.29671159386634827\n",
      "Epoch 21 train accuracy: 0.9839583039283752\n",
      "\n"
     ]
    },
    {
     "name": "stderr",
     "output_type": "stream",
     "text": [
      "Epoch 22 / 100: 188it [00:12, 14.51it/s]\n"
     ]
    },
    {
     "name": "stdout",
     "output_type": "stream",
     "text": [
      "Epoch 22 validation loss: 0.2959005832672119\n",
      "Epoch 22 validation accuracy: 0.9725000262260437\n",
      "\n",
      "Epoch 22 train loss: 0.2959005832672119\n",
      "Epoch 22 train accuracy: 0.98458331823349\n",
      "\n"
     ]
    },
    {
     "name": "stderr",
     "output_type": "stream",
     "text": [
      "Epoch 23 / 100: 188it [00:12, 14.71it/s]\n"
     ]
    },
    {
     "name": "stdout",
     "output_type": "stream",
     "text": [
      "Epoch 23 validation loss: 0.2953513264656067\n",
      "Epoch 23 validation accuracy: 0.9732499718666077\n",
      "\n",
      "Epoch 23 train loss: 0.2953513264656067\n",
      "Epoch 23 train accuracy: 0.9852499961853027\n",
      "\n"
     ]
    },
    {
     "name": "stderr",
     "output_type": "stream",
     "text": [
      "Epoch 24 / 100: 188it [00:12, 14.55it/s]\n"
     ]
    },
    {
     "name": "stdout",
     "output_type": "stream",
     "text": [
      "Epoch 24 validation loss: 0.2947912812232971\n",
      "Epoch 24 validation accuracy: 0.9735000133514404\n",
      "\n",
      "Epoch 24 train loss: 0.2947912812232971\n",
      "Epoch 24 train accuracy: 0.9857916831970215\n",
      "\n"
     ]
    },
    {
     "name": "stderr",
     "output_type": "stream",
     "text": [
      "Epoch 25 / 100: 188it [00:12, 14.77it/s]\n"
     ]
    },
    {
     "name": "stdout",
     "output_type": "stream",
     "text": [
      "Epoch 25 validation loss: 0.29409921169281006\n",
      "Epoch 25 validation accuracy: 0.9736666679382324\n",
      "\n",
      "Epoch 25 train loss: 0.29409921169281006\n",
      "Epoch 25 train accuracy: 0.9865208268165588\n",
      "\n"
     ]
    },
    {
     "name": "stderr",
     "output_type": "stream",
     "text": [
      "Epoch 26 / 100: 188it [00:12, 15.13it/s]\n"
     ]
    },
    {
     "name": "stdout",
     "output_type": "stream",
     "text": [
      "Epoch 26 validation loss: 0.2939110994338989\n",
      "Epoch 26 validation accuracy: 0.9735833406448364\n",
      "\n",
      "Epoch 26 train loss: 0.2939110994338989\n",
      "Epoch 26 train accuracy: 0.9866250157356262\n",
      "\n"
     ]
    },
    {
     "name": "stderr",
     "output_type": "stream",
     "text": [
      "Epoch 27 / 100: 188it [00:12, 14.57it/s]\n"
     ]
    },
    {
     "name": "stdout",
     "output_type": "stream",
     "text": [
      "Epoch 27 validation loss: 0.2930585443973541\n",
      "Epoch 27 validation accuracy: 0.9740833044052124\n",
      "\n",
      "Epoch 27 train loss: 0.2930585443973541\n",
      "Epoch 27 train accuracy: 0.9869791865348816\n",
      "\n"
     ]
    },
    {
     "name": "stderr",
     "output_type": "stream",
     "text": [
      "Epoch 28 / 100: 188it [00:12, 14.70it/s]\n"
     ]
    },
    {
     "name": "stdout",
     "output_type": "stream",
     "text": [
      "Epoch 28 validation loss: 0.2923050820827484\n",
      "Epoch 28 validation accuracy: 0.9743333458900452\n",
      "\n",
      "Epoch 28 train loss: 0.2923050820827484\n",
      "Epoch 28 train accuracy: 0.9876458048820496\n",
      "\n"
     ]
    },
    {
     "name": "stderr",
     "output_type": "stream",
     "text": [
      "Epoch 29 / 100: 188it [00:12, 14.93it/s]\n"
     ]
    },
    {
     "name": "stdout",
     "output_type": "stream",
     "text": [
      "Epoch 29 validation loss: 0.29221975803375244\n",
      "Epoch 29 validation accuracy: 0.9757500290870667\n",
      "\n",
      "Epoch 29 train loss: 0.29221975803375244\n",
      "Epoch 29 train accuracy: 0.9880208373069763\n",
      "\n"
     ]
    },
    {
     "name": "stderr",
     "output_type": "stream",
     "text": [
      "Epoch 30 / 100: 188it [00:12, 14.51it/s]\n"
     ]
    },
    {
     "name": "stdout",
     "output_type": "stream",
     "text": [
      "Epoch 30 validation loss: 0.2918151319026947\n",
      "Epoch 30 validation accuracy: 0.9745833277702332\n",
      "\n",
      "Epoch 30 train loss: 0.2918151319026947\n",
      "Epoch 30 train accuracy: 0.9880833625793457\n",
      "\n"
     ]
    },
    {
     "name": "stderr",
     "output_type": "stream",
     "text": [
      "Epoch 31 / 100: 188it [00:12, 14.86it/s]\n"
     ]
    },
    {
     "name": "stdout",
     "output_type": "stream",
     "text": [
      "Epoch 31 validation loss: 0.29135578870773315\n",
      "Epoch 31 validation accuracy: 0.9740833044052124\n",
      "\n",
      "Epoch 31 train loss: 0.29135578870773315\n",
      "Epoch 31 train accuracy: 0.9881250262260437\n",
      "\n"
     ]
    },
    {
     "name": "stderr",
     "output_type": "stream",
     "text": [
      "Epoch 32 / 100: 188it [00:12, 14.77it/s]\n"
     ]
    },
    {
     "name": "stdout",
     "output_type": "stream",
     "text": [
      "Epoch 32 validation loss: 0.29051995277404785\n",
      "Epoch 32 validation accuracy: 0.9748333096504211\n",
      "\n",
      "Epoch 32 train loss: 0.29051995277404785\n",
      "Epoch 32 train accuracy: 0.988895833492279\n",
      "\n"
     ]
    },
    {
     "name": "stderr",
     "output_type": "stream",
     "text": [
      "Epoch 33 / 100: 188it [00:12, 14.93it/s]\n"
     ]
    },
    {
     "name": "stdout",
     "output_type": "stream",
     "text": [
      "Epoch 33 validation loss: 0.2903271019458771\n",
      "Epoch 33 validation accuracy: 0.9754166603088379\n",
      "\n",
      "Epoch 33 train loss: 0.2903271019458771\n",
      "Epoch 33 train accuracy: 0.9892916679382324\n",
      "\n"
     ]
    },
    {
     "name": "stderr",
     "output_type": "stream",
     "text": [
      "Epoch 34 / 100: 188it [00:12, 14.75it/s]\n"
     ]
    },
    {
     "name": "stdout",
     "output_type": "stream",
     "text": [
      "Epoch 34 validation loss: 0.289995014667511\n",
      "Epoch 34 validation accuracy: 0.9768333435058594\n",
      "\n",
      "Epoch 34 train loss: 0.289995014667511\n",
      "Epoch 34 train accuracy: 0.9895416498184204\n",
      "\n"
     ]
    },
    {
     "name": "stderr",
     "output_type": "stream",
     "text": [
      "Epoch 35 / 100: 188it [00:12, 14.73it/s]\n"
     ]
    },
    {
     "name": "stdout",
     "output_type": "stream",
     "text": [
      "Epoch 35 validation loss: 0.28960323333740234\n",
      "Epoch 35 validation accuracy: 0.9759166836738586\n",
      "\n",
      "Epoch 35 train loss: 0.28960323333740234\n",
      "Epoch 35 train accuracy: 0.9896875023841858\n",
      "\n"
     ]
    },
    {
     "name": "stderr",
     "output_type": "stream",
     "text": [
      "Epoch 36 / 100: 188it [00:12, 14.74it/s]\n"
     ]
    },
    {
     "name": "stdout",
     "output_type": "stream",
     "text": [
      "Epoch 36 validation loss: 0.2893955409526825\n",
      "Epoch 36 validation accuracy: 0.9762499928474426\n",
      "\n",
      "Epoch 36 train loss: 0.2893955409526825\n",
      "Epoch 36 train accuracy: 0.9894791841506958\n",
      "\n"
     ]
    },
    {
     "name": "stderr",
     "output_type": "stream",
     "text": [
      "Epoch 37 / 100: 188it [00:12, 14.61it/s]\n"
     ]
    },
    {
     "name": "stdout",
     "output_type": "stream",
     "text": [
      "Epoch 37 validation loss: 0.2889602482318878\n",
      "Epoch 37 validation accuracy: 0.9778333306312561\n",
      "\n",
      "Epoch 37 train loss: 0.2889602482318878\n",
      "Epoch 37 train accuracy: 0.9899166822433472\n",
      "\n"
     ]
    },
    {
     "name": "stderr",
     "output_type": "stream",
     "text": [
      "Epoch 38 / 100: 188it [00:12, 14.63it/s]\n"
     ]
    },
    {
     "name": "stdout",
     "output_type": "stream",
     "text": [
      "Epoch 38 validation loss: 0.2885739207267761\n",
      "Epoch 38 validation accuracy: 0.9762499928474426\n",
      "\n",
      "Epoch 38 train loss: 0.2885739207267761\n",
      "Epoch 38 train accuracy: 0.9904583096504211\n",
      "\n"
     ]
    },
    {
     "name": "stderr",
     "output_type": "stream",
     "text": [
      "Epoch 39 / 100: 188it [00:13, 14.42it/s]\n"
     ]
    },
    {
     "name": "stdout",
     "output_type": "stream",
     "text": [
      "Epoch 39 validation loss: 0.28863969445228577\n",
      "Epoch 39 validation accuracy: 0.9780833125114441\n",
      "\n",
      "Epoch 39 train loss: 0.28863969445228577\n",
      "Epoch 39 train accuracy: 0.9907291531562805\n",
      "\n"
     ]
    },
    {
     "name": "stderr",
     "output_type": "stream",
     "text": [
      "Epoch 40 / 100: 188it [00:12, 14.53it/s]\n"
     ]
    },
    {
     "name": "stdout",
     "output_type": "stream",
     "text": [
      "Epoch 40 validation loss: 0.2879299223423004\n",
      "Epoch 40 validation accuracy: 0.9765833616256714\n",
      "\n",
      "Epoch 40 train loss: 0.2879299223423004\n",
      "Epoch 40 train accuracy: 0.9907083511352539\n",
      "\n"
     ]
    },
    {
     "name": "stderr",
     "output_type": "stream",
     "text": [
      "Epoch 41 / 100: 188it [00:12, 14.77it/s]\n"
     ]
    },
    {
     "name": "stdout",
     "output_type": "stream",
     "text": [
      "Epoch 41 validation loss: 0.28813642263412476\n",
      "Epoch 41 validation accuracy: 0.9774166941642761\n",
      "\n",
      "Epoch 41 train loss: 0.28813642263412476\n",
      "Epoch 41 train accuracy: 0.9907708168029785\n",
      "\n"
     ]
    },
    {
     "name": "stderr",
     "output_type": "stream",
     "text": [
      "Epoch 42 / 100: 188it [00:13, 14.23it/s]\n"
     ]
    },
    {
     "name": "stdout",
     "output_type": "stream",
     "text": [
      "Epoch 42 validation loss: 0.28731751441955566\n",
      "Epoch 42 validation accuracy: 0.9775000214576721\n",
      "\n",
      "Epoch 42 train loss: 0.28731751441955566\n",
      "Epoch 42 train accuracy: 0.9911875128746033\n",
      "\n"
     ]
    },
    {
     "name": "stderr",
     "output_type": "stream",
     "text": [
      "Epoch 43 / 100: 188it [00:13, 13.95it/s]\n"
     ]
    },
    {
     "name": "stdout",
     "output_type": "stream",
     "text": [
      "Epoch 43 validation loss: 0.2872614860534668\n",
      "Epoch 43 validation accuracy: 0.9776666760444641\n",
      "\n",
      "Epoch 43 train loss: 0.2872614860534668\n",
      "Epoch 43 train accuracy: 0.9915000200271606\n",
      "\n"
     ]
    },
    {
     "name": "stderr",
     "output_type": "stream",
     "text": [
      "Epoch 44 / 100: 188it [00:13, 14.22it/s]\n"
     ]
    },
    {
     "name": "stdout",
     "output_type": "stream",
     "text": [
      "Epoch 44 validation loss: 0.286805123090744\n",
      "Epoch 44 validation accuracy: 0.9769999980926514\n",
      "\n",
      "Epoch 44 train loss: 0.286805123090744\n",
      "Epoch 44 train accuracy: 0.9916041493415833\n",
      "\n"
     ]
    },
    {
     "name": "stderr",
     "output_type": "stream",
     "text": [
      "Epoch 45 / 100: 188it [00:12, 14.47it/s]\n"
     ]
    },
    {
     "name": "stdout",
     "output_type": "stream",
     "text": [
      "Epoch 45 validation loss: 0.286672443151474\n",
      "Epoch 45 validation accuracy: 0.9775833487510681\n",
      "\n",
      "Epoch 45 train loss: 0.286672443151474\n",
      "Epoch 45 train accuracy: 0.9918333292007446\n",
      "\n"
     ]
    },
    {
     "name": "stderr",
     "output_type": "stream",
     "text": [
      "Epoch 46 / 100: 188it [00:12, 14.73it/s]\n"
     ]
    },
    {
     "name": "stdout",
     "output_type": "stream",
     "text": [
      "Epoch 46 validation loss: 0.28644514083862305\n",
      "Epoch 46 validation accuracy: 0.9769999980926514\n",
      "\n",
      "Epoch 46 train loss: 0.28644514083862305\n",
      "Epoch 46 train accuracy: 0.992145836353302\n",
      "\n"
     ]
    },
    {
     "name": "stderr",
     "output_type": "stream",
     "text": [
      "Epoch 47 / 100: 188it [00:12, 14.75it/s]\n"
     ]
    },
    {
     "name": "stdout",
     "output_type": "stream",
     "text": [
      "Epoch 47 validation loss: 0.28627249598503113\n",
      "Epoch 47 validation accuracy: 0.9775000214576721\n",
      "\n",
      "Epoch 47 train loss: 0.28627249598503113\n",
      "Epoch 47 train accuracy: 0.991854190826416\n",
      "\n"
     ]
    },
    {
     "name": "stderr",
     "output_type": "stream",
     "text": [
      "Epoch 48 / 100: 188it [00:12, 14.61it/s]\n"
     ]
    },
    {
     "name": "stdout",
     "output_type": "stream",
     "text": [
      "Epoch 48 validation loss: 0.2861522138118744\n",
      "Epoch 48 validation accuracy: 0.9782500267028809\n",
      "\n",
      "Epoch 48 train loss: 0.2861522138118744\n",
      "Epoch 48 train accuracy: 0.9923750162124634\n",
      "\n"
     ]
    },
    {
     "name": "stderr",
     "output_type": "stream",
     "text": [
      "Epoch 49 / 100: 188it [00:11, 16.38it/s]\n"
     ]
    },
    {
     "name": "stdout",
     "output_type": "stream",
     "text": [
      "Epoch 49 validation loss: 0.2858743667602539\n",
      "Epoch 49 validation accuracy: 0.9779166579246521\n",
      "\n",
      "Epoch 49 train loss: 0.2858743667602539\n",
      "Epoch 49 train accuracy: 0.9922916889190674\n",
      "\n"
     ]
    },
    {
     "name": "stderr",
     "output_type": "stream",
     "text": [
      "Epoch 50 / 100: 188it [00:11, 16.40it/s]\n"
     ]
    },
    {
     "name": "stdout",
     "output_type": "stream",
     "text": [
      "Epoch 50 validation loss: 0.2857261002063751\n",
      "Epoch 50 validation accuracy: 0.9773333072662354\n",
      "\n",
      "Epoch 50 train loss: 0.2857261002063751\n",
      "Epoch 50 train accuracy: 0.992520809173584\n",
      "\n"
     ]
    },
    {
     "name": "stderr",
     "output_type": "stream",
     "text": [
      "Epoch 51 / 100: 188it [00:11, 16.47it/s]\n"
     ]
    },
    {
     "name": "stdout",
     "output_type": "stream",
     "text": [
      "Epoch 51 validation loss: 0.28502845764160156\n",
      "Epoch 51 validation accuracy: 0.9779999852180481\n",
      "\n",
      "Epoch 51 train loss: 0.28502845764160156\n",
      "Epoch 51 train accuracy: 0.9925000071525574\n",
      "\n"
     ]
    },
    {
     "name": "stderr",
     "output_type": "stream",
     "text": [
      "Epoch 52 / 100: 188it [00:13, 14.12it/s]\n"
     ]
    },
    {
     "name": "stdout",
     "output_type": "stream",
     "text": [
      "Epoch 52 validation loss: 0.28508466482162476\n",
      "Epoch 52 validation accuracy: 0.9784166812896729\n",
      "\n",
      "Epoch 52 train loss: 0.28508466482162476\n",
      "Epoch 52 train accuracy: 0.9928749799728394\n",
      "\n"
     ]
    },
    {
     "name": "stderr",
     "output_type": "stream",
     "text": [
      "Epoch 53 / 100: 188it [00:15, 11.92it/s]\n"
     ]
    },
    {
     "name": "stdout",
     "output_type": "stream",
     "text": [
      "Epoch 53 validation loss: 0.2850584387779236\n",
      "Epoch 53 validation accuracy: 0.9780833125114441\n",
      "\n",
      "Epoch 53 train loss: 0.2850584387779236\n",
      "Epoch 53 train accuracy: 0.9928125143051147\n",
      "\n"
     ]
    },
    {
     "name": "stderr",
     "output_type": "stream",
     "text": [
      "Epoch 54 / 100: 188it [00:13, 13.69it/s]\n"
     ]
    },
    {
     "name": "stdout",
     "output_type": "stream",
     "text": [
      "Epoch 54 validation loss: 0.285188764333725\n",
      "Epoch 54 validation accuracy: 0.9780833125114441\n",
      "\n",
      "Epoch 54 train loss: 0.285188764333725\n",
      "Epoch 54 train accuracy: 0.9927916526794434\n",
      "\n"
     ]
    },
    {
     "name": "stderr",
     "output_type": "stream",
     "text": [
      "Epoch 55 / 100: 188it [00:13, 14.12it/s]\n"
     ]
    },
    {
     "name": "stdout",
     "output_type": "stream",
     "text": [
      "Epoch 55 validation loss: 0.28491589426994324\n",
      "Epoch 55 validation accuracy: 0.9779999852180481\n",
      "\n",
      "Epoch 55 train loss: 0.28491589426994324\n",
      "Epoch 55 train accuracy: 0.9931250214576721\n",
      "\n"
     ]
    },
    {
     "name": "stderr",
     "output_type": "stream",
     "text": [
      "Epoch 56 / 100: 188it [00:13, 14.38it/s]\n"
     ]
    },
    {
     "name": "stdout",
     "output_type": "stream",
     "text": [
      "Epoch 56 validation loss: 0.28431233763694763\n",
      "Epoch 56 validation accuracy: 0.9779166579246521\n",
      "\n",
      "Epoch 56 train loss: 0.28431233763694763\n",
      "Epoch 56 train accuracy: 0.9931874871253967\n",
      "\n"
     ]
    },
    {
     "name": "stderr",
     "output_type": "stream",
     "text": [
      "Epoch 57 / 100: 188it [00:13, 14.46it/s]\n"
     ]
    },
    {
     "name": "stdout",
     "output_type": "stream",
     "text": [
      "Epoch 57 validation loss: 0.28419795632362366\n",
      "Epoch 57 validation accuracy: 0.9785000085830688\n",
      "\n",
      "Epoch 57 train loss: 0.28419795632362366\n",
      "Epoch 57 train accuracy: 0.9932708144187927\n",
      "\n"
     ]
    },
    {
     "name": "stderr",
     "output_type": "stream",
     "text": [
      "Epoch 58 / 100: 188it [00:13, 14.40it/s]\n"
     ]
    },
    {
     "name": "stdout",
     "output_type": "stream",
     "text": [
      "Epoch 58 validation loss: 0.284342885017395\n",
      "Epoch 58 validation accuracy: 0.9776666760444641\n",
      "\n",
      "Epoch 58 train loss: 0.284342885017395\n",
      "Epoch 58 train accuracy: 0.9933333396911621\n",
      "\n"
     ]
    },
    {
     "name": "stderr",
     "output_type": "stream",
     "text": [
      "Epoch 59 / 100: 188it [00:13, 14.12it/s]\n"
     ]
    },
    {
     "name": "stdout",
     "output_type": "stream",
     "text": [
      "Epoch 59 validation loss: 0.28397461771965027\n",
      "Epoch 59 validation accuracy: 0.9780833125114441\n",
      "\n",
      "Epoch 59 train loss: 0.28397461771965027\n",
      "Epoch 59 train accuracy: 0.9934583306312561\n",
      "\n"
     ]
    },
    {
     "name": "stderr",
     "output_type": "stream",
     "text": [
      "Epoch 60 / 100: 188it [00:13, 13.48it/s]\n"
     ]
    },
    {
     "name": "stdout",
     "output_type": "stream",
     "text": [
      "Epoch 60 validation loss: 0.28409436345100403\n",
      "Epoch 60 validation accuracy: 0.9779999852180481\n",
      "\n",
      "Epoch 60 train loss: 0.28409436345100403\n",
      "Epoch 60 train accuracy: 0.9935416579246521\n",
      "\n"
     ]
    },
    {
     "name": "stderr",
     "output_type": "stream",
     "text": [
      "Epoch 61 / 100: 188it [00:14, 13.24it/s]\n"
     ]
    },
    {
     "name": "stdout",
     "output_type": "stream",
     "text": [
      "Epoch 61 validation loss: 0.2837684452533722\n",
      "Epoch 61 validation accuracy: 0.9781666398048401\n",
      "\n",
      "Epoch 61 train loss: 0.2837684452533722\n",
      "Epoch 61 train accuracy: 0.9935833215713501\n",
      "\n"
     ]
    },
    {
     "name": "stderr",
     "output_type": "stream",
     "text": [
      "Epoch 62 / 100: 188it [00:13, 14.42it/s]\n"
     ]
    },
    {
     "name": "stdout",
     "output_type": "stream",
     "text": [
      "Epoch 62 validation loss: 0.28340762853622437\n",
      "Epoch 62 validation accuracy: 0.9785833358764648\n",
      "\n",
      "Epoch 62 train loss: 0.28340762853622437\n",
      "Epoch 62 train accuracy: 0.9937083125114441\n",
      "\n"
     ]
    },
    {
     "name": "stderr",
     "output_type": "stream",
     "text": [
      "Epoch 63 / 100: 188it [00:12, 14.66it/s]\n"
     ]
    },
    {
     "name": "stdout",
     "output_type": "stream",
     "text": [
      "Epoch 63 validation loss: 0.28354090452194214\n",
      "Epoch 63 validation accuracy: 0.9785000085830688\n",
      "\n",
      "Epoch 63 train loss: 0.28354090452194214\n",
      "Epoch 63 train accuracy: 0.9938333630561829\n",
      "\n"
     ]
    },
    {
     "name": "stderr",
     "output_type": "stream",
     "text": [
      "Epoch 64 / 100: 188it [00:12, 14.68it/s]\n"
     ]
    },
    {
     "name": "stdout",
     "output_type": "stream",
     "text": [
      "Epoch 64 validation loss: 0.28336119651794434\n",
      "Epoch 64 validation accuracy: 0.9782500267028809\n",
      "\n",
      "Epoch 64 train loss: 0.28336119651794434\n",
      "Epoch 64 train accuracy: 0.9939583539962769\n",
      "\n"
     ]
    },
    {
     "name": "stderr",
     "output_type": "stream",
     "text": [
      "Epoch 65 / 100: 188it [00:12, 14.50it/s]\n"
     ]
    },
    {
     "name": "stdout",
     "output_type": "stream",
     "text": [
      "Epoch 65 validation loss: 0.28332701325416565\n",
      "Epoch 65 validation accuracy: 0.9776666760444641\n",
      "\n",
      "Epoch 65 train loss: 0.28332701325416565\n",
      "Epoch 65 train accuracy: 0.9941458106040955\n",
      "\n"
     ]
    },
    {
     "name": "stderr",
     "output_type": "stream",
     "text": [
      "Epoch 66 / 100: 188it [00:12, 14.70it/s]\n"
     ]
    },
    {
     "name": "stdout",
     "output_type": "stream",
     "text": [
      "Epoch 66 validation loss: 0.28323909640312195\n",
      "Epoch 66 validation accuracy: 0.9789999723434448\n",
      "\n",
      "Epoch 66 train loss: 0.28323909640312195\n",
      "Epoch 66 train accuracy: 0.9942083358764648\n",
      "\n"
     ]
    },
    {
     "name": "stderr",
     "output_type": "stream",
     "text": [
      "Epoch 67 / 100: 188it [00:12, 14.87it/s]\n"
     ]
    },
    {
     "name": "stdout",
     "output_type": "stream",
     "text": [
      "Epoch 67 validation loss: 0.2828427851200104\n",
      "Epoch 67 validation accuracy: 0.9786666631698608\n",
      "\n",
      "Epoch 67 train loss: 0.2828427851200104\n",
      "Epoch 67 train accuracy: 0.9942916631698608\n",
      "\n"
     ]
    },
    {
     "name": "stderr",
     "output_type": "stream",
     "text": [
      "Epoch 68 / 100: 188it [00:12, 14.88it/s]\n"
     ]
    },
    {
     "name": "stdout",
     "output_type": "stream",
     "text": [
      "Epoch 68 validation loss: 0.282916784286499\n",
      "Epoch 68 validation accuracy: 0.9775000214576721\n",
      "\n",
      "Epoch 68 train loss: 0.282916784286499\n",
      "Epoch 68 train accuracy: 0.9941666722297668\n",
      "\n"
     ]
    },
    {
     "name": "stderr",
     "output_type": "stream",
     "text": [
      "Epoch 69 / 100: 188it [00:13, 13.74it/s]\n"
     ]
    },
    {
     "name": "stdout",
     "output_type": "stream",
     "text": [
      "Epoch 69 validation loss: 0.2829411029815674\n",
      "Epoch 69 validation accuracy: 0.9775000214576721\n",
      "\n",
      "Epoch 69 train loss: 0.2829411029815674\n",
      "Epoch 69 train accuracy: 0.9942083358764648\n",
      "\n"
     ]
    },
    {
     "name": "stderr",
     "output_type": "stream",
     "text": [
      "Epoch 70 / 100: 188it [00:13, 14.43it/s]\n"
     ]
    },
    {
     "name": "stdout",
     "output_type": "stream",
     "text": [
      "Epoch 70 validation loss: 0.28270071744918823\n",
      "Epoch 70 validation accuracy: 0.9780833125114441\n",
      "\n",
      "Epoch 70 train loss: 0.28270071744918823\n",
      "Epoch 70 train accuracy: 0.9943125247955322\n",
      "\n"
     ]
    },
    {
     "name": "stderr",
     "output_type": "stream",
     "text": [
      "Epoch 71 / 100: 188it [00:13, 13.96it/s]\n"
     ]
    },
    {
     "name": "stdout",
     "output_type": "stream",
     "text": [
      "Epoch 71 validation loss: 0.2825472354888916\n",
      "Epoch 71 validation accuracy: 0.9785833358764648\n",
      "\n",
      "Epoch 71 train loss: 0.2825472354888916\n",
      "Epoch 71 train accuracy: 0.9944999814033508\n",
      "\n"
     ]
    },
    {
     "name": "stderr",
     "output_type": "stream",
     "text": [
      "Epoch 72 / 100: 188it [00:13, 14.18it/s]\n"
     ]
    },
    {
     "name": "stdout",
     "output_type": "stream",
     "text": [
      "Epoch 72 validation loss: 0.28260260820388794\n",
      "Epoch 72 validation accuracy: 0.9794999957084656\n",
      "\n",
      "Epoch 72 train loss: 0.28260260820388794\n",
      "Epoch 72 train accuracy: 0.9945208430290222\n",
      "\n"
     ]
    },
    {
     "name": "stderr",
     "output_type": "stream",
     "text": [
      "Epoch 73 / 100: 188it [00:13, 13.95it/s]\n"
     ]
    },
    {
     "name": "stdout",
     "output_type": "stream",
     "text": [
      "Epoch 73 validation loss: 0.28244131803512573\n",
      "Epoch 73 validation accuracy: 0.9795833230018616\n",
      "\n",
      "Epoch 73 train loss: 0.28244131803512573\n",
      "Epoch 73 train accuracy: 0.9945208430290222\n",
      "\n"
     ]
    },
    {
     "name": "stderr",
     "output_type": "stream",
     "text": [
      "Epoch 74 / 100: 188it [00:13, 13.89it/s]\n"
     ]
    },
    {
     "name": "stdout",
     "output_type": "stream",
     "text": [
      "Epoch 74 validation loss: 0.2820238173007965\n",
      "Epoch 74 validation accuracy: 0.9789166450500488\n",
      "\n",
      "Epoch 74 train loss: 0.2820238173007965\n",
      "Epoch 74 train accuracy: 0.9947291612625122\n",
      "\n"
     ]
    },
    {
     "name": "stderr",
     "output_type": "stream",
     "text": [
      "Epoch 75 / 100: 188it [00:12, 14.68it/s]\n"
     ]
    },
    {
     "name": "stdout",
     "output_type": "stream",
     "text": [
      "Epoch 75 validation loss: 0.28202250599861145\n",
      "Epoch 75 validation accuracy: 0.9785833358764648\n",
      "\n",
      "Epoch 75 train loss: 0.28202250599861145\n",
      "Epoch 75 train accuracy: 0.9947291612625122\n",
      "\n"
     ]
    },
    {
     "name": "stderr",
     "output_type": "stream",
     "text": [
      "Epoch 76 / 100: 188it [00:12, 14.72it/s]\n"
     ]
    },
    {
     "name": "stdout",
     "output_type": "stream",
     "text": [
      "Epoch 76 validation loss: 0.28239142894744873\n",
      "Epoch 76 validation accuracy: 0.9787499904632568\n",
      "\n",
      "Epoch 76 train loss: 0.28239142894744873\n",
      "Epoch 76 train accuracy: 0.9947083592414856\n",
      "\n"
     ]
    },
    {
     "name": "stderr",
     "output_type": "stream",
     "text": [
      "Epoch 77 / 100: 188it [00:12, 14.47it/s]\n"
     ]
    },
    {
     "name": "stdout",
     "output_type": "stream",
     "text": [
      "Epoch 77 validation loss: 0.2819405794143677\n",
      "Epoch 77 validation accuracy: 0.9794166684150696\n",
      "\n",
      "Epoch 77 train loss: 0.2819405794143677\n",
      "Epoch 77 train accuracy: 0.9948333501815796\n",
      "\n"
     ]
    },
    {
     "name": "stderr",
     "output_type": "stream",
     "text": [
      "Epoch 78 / 100: 188it [00:12, 14.90it/s]\n"
     ]
    },
    {
     "name": "stdout",
     "output_type": "stream",
     "text": [
      "Epoch 78 validation loss: 0.28211748600006104\n",
      "Epoch 78 validation accuracy: 0.9790833592414856\n",
      "\n",
      "Epoch 78 train loss: 0.28211748600006104\n",
      "Epoch 78 train accuracy: 0.9947500228881836\n",
      "\n"
     ]
    },
    {
     "name": "stderr",
     "output_type": "stream",
     "text": [
      "Epoch 79 / 100: 188it [00:12, 14.57it/s]\n"
     ]
    },
    {
     "name": "stdout",
     "output_type": "stream",
     "text": [
      "Epoch 79 validation loss: 0.282036155462265\n",
      "Epoch 79 validation accuracy: 0.9782500267028809\n",
      "\n",
      "Epoch 79 train loss: 0.282036155462265\n",
      "Epoch 79 train accuracy: 0.9949791431427002\n",
      "\n"
     ]
    },
    {
     "name": "stderr",
     "output_type": "stream",
     "text": [
      "Epoch 80 / 100: 188it [00:12, 15.14it/s]\n"
     ]
    },
    {
     "name": "stdout",
     "output_type": "stream",
     "text": [
      "Epoch 80 validation loss: 0.28134486079216003\n",
      "Epoch 80 validation accuracy: 0.9784166812896729\n",
      "\n",
      "Epoch 80 train loss: 0.28134486079216003\n",
      "Epoch 80 train accuracy: 0.9950833320617676\n",
      "\n"
     ]
    },
    {
     "name": "stderr",
     "output_type": "stream",
     "text": [
      "Epoch 81 / 100: 188it [00:12, 14.63it/s]\n"
     ]
    },
    {
     "name": "stdout",
     "output_type": "stream",
     "text": [
      "Epoch 81 validation loss: 0.2816650867462158\n",
      "Epoch 81 validation accuracy: 0.9790833592414856\n",
      "\n",
      "Epoch 81 train loss: 0.2816650867462158\n",
      "Epoch 81 train accuracy: 0.9954166412353516\n",
      "\n"
     ]
    },
    {
     "name": "stderr",
     "output_type": "stream",
     "text": [
      "Epoch 82 / 100: 188it [00:13, 14.24it/s]\n"
     ]
    },
    {
     "name": "stdout",
     "output_type": "stream",
     "text": [
      "Epoch 82 validation loss: 0.28190016746520996\n",
      "Epoch 82 validation accuracy: 0.9775000214576721\n",
      "\n",
      "Epoch 82 train loss: 0.28190016746520996\n",
      "Epoch 82 train accuracy: 0.995229184627533\n",
      "\n"
     ]
    },
    {
     "name": "stderr",
     "output_type": "stream",
     "text": [
      "Epoch 83 / 100: 188it [00:12, 15.12it/s]\n"
     ]
    },
    {
     "name": "stdout",
     "output_type": "stream",
     "text": [
      "Epoch 83 validation loss: 0.28143537044525146\n",
      "Epoch 83 validation accuracy: 0.9789999723434448\n",
      "\n",
      "Epoch 83 train loss: 0.28143537044525146\n",
      "Epoch 83 train accuracy: 0.995312511920929\n",
      "\n"
     ]
    },
    {
     "name": "stderr",
     "output_type": "stream",
     "text": [
      "Epoch 84 / 100: 188it [00:12, 14.77it/s]\n"
     ]
    },
    {
     "name": "stdout",
     "output_type": "stream",
     "text": [
      "Epoch 84 validation loss: 0.2813364267349243\n",
      "Epoch 84 validation accuracy: 0.9788333177566528\n",
      "\n",
      "Epoch 84 train loss: 0.2813364267349243\n",
      "Epoch 84 train accuracy: 0.995395839214325\n",
      "\n"
     ]
    },
    {
     "name": "stderr",
     "output_type": "stream",
     "text": [
      "Epoch 85 / 100: 188it [00:12, 14.74it/s]\n"
     ]
    },
    {
     "name": "stdout",
     "output_type": "stream",
     "text": [
      "Epoch 85 validation loss: 0.28115707635879517\n",
      "Epoch 85 validation accuracy: 0.9786666631698608\n",
      "\n",
      "Epoch 85 train loss: 0.28115707635879517\n",
      "Epoch 85 train accuracy: 0.9954166412353516\n",
      "\n"
     ]
    },
    {
     "name": "stderr",
     "output_type": "stream",
     "text": [
      "Epoch 86 / 100: 188it [00:12, 14.59it/s]\n"
     ]
    },
    {
     "name": "stdout",
     "output_type": "stream",
     "text": [
      "Epoch 86 validation loss: 0.28130367398262024\n",
      "Epoch 86 validation accuracy: 0.9782500267028809\n",
      "\n",
      "Epoch 86 train loss: 0.28130367398262024\n",
      "Epoch 86 train accuracy: 0.9954583048820496\n",
      "\n"
     ]
    },
    {
     "name": "stderr",
     "output_type": "stream",
     "text": [
      "Epoch 87 / 100: 188it [00:13, 13.61it/s]\n"
     ]
    },
    {
     "name": "stdout",
     "output_type": "stream",
     "text": [
      "Epoch 87 validation loss: 0.2810192406177521\n",
      "Epoch 87 validation accuracy: 0.9775833487510681\n",
      "\n",
      "Epoch 87 train loss: 0.2810192406177521\n",
      "Epoch 87 train accuracy: 0.995479166507721\n",
      "\n"
     ]
    },
    {
     "name": "stderr",
     "output_type": "stream",
     "text": [
      "Epoch 88 / 100: 188it [00:13, 14.01it/s]\n"
     ]
    },
    {
     "name": "stdout",
     "output_type": "stream",
     "text": [
      "Epoch 88 validation loss: 0.2810305058956146\n",
      "Epoch 88 validation accuracy: 0.9784166812896729\n",
      "\n",
      "Epoch 88 train loss: 0.2810305058956146\n",
      "Epoch 88 train accuracy: 0.9955416917800903\n",
      "\n"
     ]
    },
    {
     "name": "stderr",
     "output_type": "stream",
     "text": [
      "Epoch 89 / 100: 188it [00:12, 14.67it/s]\n"
     ]
    },
    {
     "name": "stdout",
     "output_type": "stream",
     "text": [
      "Epoch 89 validation loss: 0.28105661273002625\n",
      "Epoch 89 validation accuracy: 0.9784166812896729\n",
      "\n",
      "Epoch 89 train loss: 0.28105661273002625\n",
      "Epoch 89 train accuracy: 0.9956250190734863\n",
      "\n"
     ]
    },
    {
     "name": "stderr",
     "output_type": "stream",
     "text": [
      "Epoch 90 / 100: 188it [00:12, 14.63it/s]\n"
     ]
    },
    {
     "name": "stdout",
     "output_type": "stream",
     "text": [
      "Epoch 90 validation loss: 0.28085413575172424\n",
      "Epoch 90 validation accuracy: 0.9789999723434448\n",
      "\n",
      "Epoch 90 train loss: 0.28085413575172424\n",
      "Epoch 90 train accuracy: 0.995395839214325\n",
      "\n"
     ]
    },
    {
     "name": "stderr",
     "output_type": "stream",
     "text": [
      "Epoch 91 / 100: 188it [00:13, 13.79it/s]\n"
     ]
    },
    {
     "name": "stdout",
     "output_type": "stream",
     "text": [
      "Epoch 91 validation loss: 0.2805062532424927\n",
      "Epoch 91 validation accuracy: 0.9791666865348816\n",
      "\n",
      "Epoch 91 train loss: 0.2805062532424927\n",
      "Epoch 91 train accuracy: 0.9956458210945129\n",
      "\n"
     ]
    },
    {
     "name": "stderr",
     "output_type": "stream",
     "text": [
      "Epoch 92 / 100: 188it [00:13, 14.42it/s]\n"
     ]
    },
    {
     "name": "stdout",
     "output_type": "stream",
     "text": [
      "Epoch 92 validation loss: 0.2808164358139038\n",
      "Epoch 92 validation accuracy: 0.9769166707992554\n",
      "\n",
      "Epoch 92 train loss: 0.2808164358139038\n",
      "Epoch 92 train accuracy: 0.9956041574478149\n",
      "\n"
     ]
    },
    {
     "name": "stderr",
     "output_type": "stream",
     "text": [
      "Epoch 93 / 100: 188it [00:14, 13.17it/s]\n"
     ]
    },
    {
     "name": "stdout",
     "output_type": "stream",
     "text": [
      "Epoch 93 validation loss: 0.2803381383419037\n",
      "Epoch 93 validation accuracy: 0.9777500033378601\n",
      "\n",
      "Epoch 93 train loss: 0.2803381383419037\n",
      "Epoch 93 train accuracy: 0.9958124756813049\n",
      "\n"
     ]
    },
    {
     "name": "stderr",
     "output_type": "stream",
     "text": [
      "Epoch 94 / 100: 188it [00:13, 13.99it/s]\n"
     ]
    },
    {
     "name": "stdout",
     "output_type": "stream",
     "text": [
      "Epoch 94 validation loss: 0.2807824909687042\n",
      "Epoch 94 validation accuracy: 0.9774166941642761\n",
      "\n",
      "Epoch 94 train loss: 0.2807824909687042\n",
      "Epoch 94 train accuracy: 0.9958750009536743\n",
      "\n"
     ]
    },
    {
     "name": "stderr",
     "output_type": "stream",
     "text": [
      "Epoch 95 / 100: 188it [00:14, 13.15it/s]\n"
     ]
    },
    {
     "name": "stdout",
     "output_type": "stream",
     "text": [
      "Epoch 95 validation loss: 0.2805958390235901\n",
      "Epoch 95 validation accuracy: 0.9785833358764648\n",
      "\n",
      "Epoch 95 train loss: 0.2805958390235901\n",
      "Epoch 95 train accuracy: 0.9958541393280029\n",
      "\n"
     ]
    },
    {
     "name": "stderr",
     "output_type": "stream",
     "text": [
      "Epoch 96 / 100: 188it [00:13, 14.43it/s]\n"
     ]
    },
    {
     "name": "stdout",
     "output_type": "stream",
     "text": [
      "Epoch 96 validation loss: 0.2803916335105896\n",
      "Epoch 96 validation accuracy: 0.9782500267028809\n",
      "\n",
      "Epoch 96 train loss: 0.2803916335105896\n",
      "Epoch 96 train accuracy: 0.9957916736602783\n",
      "\n"
     ]
    },
    {
     "name": "stderr",
     "output_type": "stream",
     "text": [
      "Epoch 97 / 100: 188it [00:13, 14.40it/s]\n"
     ]
    },
    {
     "name": "stdout",
     "output_type": "stream",
     "text": [
      "Epoch 97 validation loss: 0.2805050313472748\n",
      "Epoch 97 validation accuracy: 0.9782500267028809\n",
      "\n",
      "Epoch 97 train loss: 0.2805050313472748\n",
      "Epoch 97 train accuracy: 0.9958333373069763\n",
      "\n"
     ]
    },
    {
     "name": "stderr",
     "output_type": "stream",
     "text": [
      "Epoch 98 / 100: 188it [00:15, 12.45it/s]\n"
     ]
    },
    {
     "name": "stdout",
     "output_type": "stream",
     "text": [
      "Epoch 98 validation loss: 0.28059643507003784\n",
      "Epoch 98 validation accuracy: 0.9784166812896729\n",
      "\n",
      "Epoch 98 train loss: 0.28059643507003784\n",
      "Epoch 98 train accuracy: 0.9960625171661377\n",
      "\n"
     ]
    },
    {
     "name": "stderr",
     "output_type": "stream",
     "text": [
      "Epoch 99 / 100: 188it [00:14, 12.69it/s]\n"
     ]
    },
    {
     "name": "stdout",
     "output_type": "stream",
     "text": [
      "Epoch 99 validation loss: 0.28037914633750916\n",
      "Epoch 99 validation accuracy: 0.9774166941642761\n",
      "\n",
      "Epoch 99 train loss: 0.28037914633750916\n",
      "Epoch 99 train accuracy: 0.9961458444595337\n",
      "\n"
     ]
    },
    {
     "name": "stderr",
     "output_type": "stream",
     "text": [
      "Epoch 100 / 100: 188it [00:14, 13.42it/s]\n"
     ]
    },
    {
     "name": "stdout",
     "output_type": "stream",
     "text": [
      "Epoch 100 validation loss: 0.2802566885948181\n",
      "Epoch 100 validation accuracy: 0.9765833616256714\n",
      "\n",
      "Epoch 100 train loss: 0.2802566885948181\n",
      "Epoch 100 train accuracy: 0.9957291483879089\n",
      "\n",
      "Test loss is 0.2802566885948181 and test accuracy is 0.9768999814987183\n"
     ]
    }
   ],
   "source": [
    "deep_glvq.train_encoder()"
   ]
  }
 ],
 "metadata": {
  "kernelspec": {
   "display_name": "machine_learning",
   "language": "python",
   "name": "machine_learning"
  },
  "language_info": {
   "codemirror_mode": {
    "name": "ipython",
    "version": 3
   },
   "file_extension": ".py",
   "mimetype": "text/x-python",
   "name": "python",
   "nbconvert_exporter": "python",
   "pygments_lexer": "ipython3",
   "version": "3.12.8"
  }
 },
 "nbformat": 4,
 "nbformat_minor": 5
}
